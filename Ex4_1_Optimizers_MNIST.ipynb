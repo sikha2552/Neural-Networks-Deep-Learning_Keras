{
  "nbformat": 4,
  "nbformat_minor": 0,
  "metadata": {
    "colab": {
      "provenance": []
    },
    "kernelspec": {
      "name": "python3",
      "display_name": "Python 3"
    },
    "language_info": {
      "name": "python"
    }
  },
  "cells": [
    {
      "cell_type": "code",
      "execution_count": 1,
      "metadata": {
        "id": "p8bfAPYcuw6k"
      },
      "outputs": [],
      "source": [
        "#Import libraris\n",
        "import tensorflow as tf\n",
        "import keras\n",
        "from keras.datasets import mnist\n",
        "from keras.models import Sequential\n",
        "from keras.layers import Dense, Activation\n",
        "from keras import backend as K"
      ]
    },
    {
      "cell_type": "code",
      "source": [
        "#Load Dataset\n",
        "(X_train,y_train),(X_test,y_test)=mnist.load_data()\n",
        "print(\"Training samples size: {} and Label size:{}  \".format(X_train.shape,y_train.shape))"
      ],
      "metadata": {
        "colab": {
          "base_uri": "https://localhost:8080/"
        },
        "id": "FXBb307QvODe",
        "outputId": "e3529aa0-c4fc-4557-dca2-16896c50d7f6"
      },
      "execution_count": 2,
      "outputs": [
        {
          "output_type": "stream",
          "name": "stdout",
          "text": [
            "Downloading data from https://storage.googleapis.com/tensorflow/tf-keras-datasets/mnist.npz\n",
            "11490434/11490434 [==============================] - 0s 0us/step\n",
            "Training samples size: (60000, 28, 28) and Label size:(60000,)  \n"
          ]
        }
      ]
    },
    {
      "cell_type": "code",
      "source": [
        "#Reshape the data\n",
        "X_train=X_train.reshape(X_train.shape[0],-1)\n",
        "X_test=X_test.reshape(X_test.shape[0],-1)\n",
        "\n",
        "print(\"Train: \",X_train.shape)\n",
        "print(\"Test:\",X_test.shape)"
      ],
      "metadata": {
        "colab": {
          "base_uri": "https://localhost:8080/"
        },
        "id": "d7jCgWQ8wIGd",
        "outputId": "0382e780-f731-4d77-c63e-405fa2045cf0"
      },
      "execution_count": 3,
      "outputs": [
        {
          "output_type": "stream",
          "name": "stdout",
          "text": [
            "Train:  (60000, 784)\n",
            "Test: (10000, 784)\n"
          ]
        }
      ]
    },
    {
      "cell_type": "code",
      "source": [
        "#Normalize data\n",
        "X_train= X_train.astype('float32')\n",
        "X_test= X_test.astype('float32')\n",
        "X_train /= 255\n",
        "X_test /=255"
      ],
      "metadata": {
        "id": "9HCk206lwbCB"
      },
      "execution_count": 4,
      "outputs": []
    },
    {
      "cell_type": "code",
      "source": [
        "#Build Model (MLP)\n",
        "from tensorflow.keras import optimizers\n",
        "def build_model(opt):\n",
        "  model=Sequential()\n",
        "  model.add(Dense(50,input_shape=(784,)))\n",
        "  model.add(Activation('sigmoid'))\n",
        "  model.add(Dense(50))\n",
        "  model.add(Activation('sigmoid'))\n",
        "  model.add(Dense(50))\n",
        "  model.add(Activation('sigmoid'))\n",
        "  model.add(Dense(10))\n",
        "  model.add(Activation('softmax'))\n",
        "  model.compile(optimizer = opt, loss = 'sparse_categorical_crossentropy', metrics = ['accuracy'])\n",
        "  return model"
      ],
      "metadata": {
        "id": "Nq-2tTROw50s"
      },
      "execution_count": 5,
      "outputs": []
    },
    {
      "cell_type": "code",
      "source": [
        "optimizers = ['Adadelta', 'Adagrad', 'Adam', 'RMSprop', 'SGD']\n",
        "batch_size=64\n",
        "epochs=10\n",
        "for optimizer in optimizers:\n",
        "    model = build_model(optimizer)\n",
        "    hist = model.fit(X_train, y_train, batch_size=batch_size, epochs=epochs, verbose=1, validation_data=(X_test, y_test))\n",
        "    accuracy = hist.history['accuracy'][-1]\n",
        "    print(f\"Optimizer: {optimizer}, Accuracy: {accuracy}\")\n",
        "\n"
      ],
      "metadata": {
        "colab": {
          "base_uri": "https://localhost:8080/"
        },
        "id": "fXDZvH2ExoBo",
        "outputId": "1725f399-9442-4b75-fcc6-13393f563923"
      },
      "execution_count": 6,
      "outputs": [
        {
          "output_type": "stream",
          "name": "stdout",
          "text": [
            "Epoch 1/10\n",
            "938/938 [==============================] - 6s 6ms/step - loss: 2.4569 - accuracy: 0.1230 - val_loss: 2.4445 - val_accuracy: 0.1179\n",
            "Epoch 2/10\n",
            "938/938 [==============================] - 4s 4ms/step - loss: 2.4373 - accuracy: 0.1109 - val_loss: 2.4260 - val_accuracy: 0.1017\n",
            "Epoch 3/10\n",
            "938/938 [==============================] - 4s 4ms/step - loss: 2.4198 - accuracy: 0.0999 - val_loss: 2.4095 - val_accuracy: 0.0980\n",
            "Epoch 4/10\n",
            "938/938 [==============================] - 5s 5ms/step - loss: 2.4044 - accuracy: 0.0978 - val_loss: 2.3951 - val_accuracy: 0.0975\n",
            "Epoch 5/10\n",
            "938/938 [==============================] - 4s 4ms/step - loss: 2.3908 - accuracy: 0.0975 - val_loss: 2.3824 - val_accuracy: 0.0974\n",
            "Epoch 6/10\n",
            "938/938 [==============================] - 4s 4ms/step - loss: 2.3789 - accuracy: 0.0975 - val_loss: 2.3714 - val_accuracy: 0.0974\n",
            "Epoch 7/10\n",
            "938/938 [==============================] - 5s 5ms/step - loss: 2.3685 - accuracy: 0.0975 - val_loss: 2.3617 - val_accuracy: 0.0974\n",
            "Epoch 8/10\n",
            "938/938 [==============================] - 4s 4ms/step - loss: 2.3592 - accuracy: 0.0975 - val_loss: 2.3530 - val_accuracy: 0.0973\n",
            "Epoch 9/10\n",
            "938/938 [==============================] - 4s 4ms/step - loss: 2.3510 - accuracy: 0.0975 - val_loss: 2.3453 - val_accuracy: 0.0978\n",
            "Epoch 10/10\n",
            "938/938 [==============================] - 5s 5ms/step - loss: 2.3437 - accuracy: 0.0977 - val_loss: 2.3385 - val_accuracy: 0.0995\n",
            "Optimizer: Adadelta, Accuracy: 0.09771666675806046\n",
            "Epoch 1/10\n",
            "938/938 [==============================] - 4s 4ms/step - loss: 2.3405 - accuracy: 0.1140 - val_loss: 2.3036 - val_accuracy: 0.1135\n",
            "Epoch 2/10\n",
            "938/938 [==============================] - 4s 5ms/step - loss: 2.3007 - accuracy: 0.1124 - val_loss: 2.2989 - val_accuracy: 0.1135\n",
            "Epoch 3/10\n",
            "938/938 [==============================] - 3s 4ms/step - loss: 2.2985 - accuracy: 0.1124 - val_loss: 2.2976 - val_accuracy: 0.1135\n",
            "Epoch 4/10\n",
            "938/938 [==============================] - 3s 4ms/step - loss: 2.2974 - accuracy: 0.1124 - val_loss: 2.2965 - val_accuracy: 0.1135\n",
            "Epoch 5/10\n",
            "938/938 [==============================] - 4s 4ms/step - loss: 2.2963 - accuracy: 0.1124 - val_loss: 2.2953 - val_accuracy: 0.1135\n",
            "Epoch 6/10\n",
            "938/938 [==============================] - 4s 4ms/step - loss: 2.2951 - accuracy: 0.1124 - val_loss: 2.2942 - val_accuracy: 0.1135\n",
            "Epoch 7/10\n",
            "938/938 [==============================] - 3s 4ms/step - loss: 2.2940 - accuracy: 0.1124 - val_loss: 2.2929 - val_accuracy: 0.1135\n",
            "Epoch 8/10\n",
            "938/938 [==============================] - 3s 4ms/step - loss: 2.2928 - accuracy: 0.1124 - val_loss: 2.2917 - val_accuracy: 0.1135\n",
            "Epoch 9/10\n",
            "938/938 [==============================] - 4s 5ms/step - loss: 2.2915 - accuracy: 0.1124 - val_loss: 2.2904 - val_accuracy: 0.1135\n",
            "Epoch 10/10\n",
            "938/938 [==============================] - 3s 4ms/step - loss: 2.2903 - accuracy: 0.1124 - val_loss: 2.2891 - val_accuracy: 0.1135\n",
            "Optimizer: Adagrad, Accuracy: 0.11236666887998581\n",
            "Epoch 1/10\n",
            "938/938 [==============================] - 5s 4ms/step - loss: 0.9532 - accuracy: 0.7590 - val_loss: 0.3503 - val_accuracy: 0.9101\n",
            "Epoch 2/10\n",
            "938/938 [==============================] - 5s 5ms/step - loss: 0.2794 - accuracy: 0.9237 - val_loss: 0.2332 - val_accuracy: 0.9347\n",
            "Epoch 3/10\n",
            "938/938 [==============================] - 4s 4ms/step - loss: 0.2015 - accuracy: 0.9439 - val_loss: 0.1845 - val_accuracy: 0.9483\n",
            "Epoch 4/10\n",
            "938/938 [==============================] - 4s 4ms/step - loss: 0.1616 - accuracy: 0.9544 - val_loss: 0.1559 - val_accuracy: 0.9553\n",
            "Epoch 5/10\n",
            "938/938 [==============================] - 4s 5ms/step - loss: 0.1355 - accuracy: 0.9614 - val_loss: 0.1363 - val_accuracy: 0.9611\n",
            "Epoch 6/10\n",
            "938/938 [==============================] - 4s 4ms/step - loss: 0.1161 - accuracy: 0.9670 - val_loss: 0.1331 - val_accuracy: 0.9620\n",
            "Epoch 7/10\n",
            "938/938 [==============================] - 4s 4ms/step - loss: 0.1017 - accuracy: 0.9706 - val_loss: 0.1183 - val_accuracy: 0.9646\n",
            "Epoch 8/10\n",
            "938/938 [==============================] - 4s 4ms/step - loss: 0.0895 - accuracy: 0.9743 - val_loss: 0.1103 - val_accuracy: 0.9677\n",
            "Epoch 9/10\n",
            "938/938 [==============================] - 4s 5ms/step - loss: 0.0793 - accuracy: 0.9769 - val_loss: 0.1108 - val_accuracy: 0.9676\n",
            "Epoch 10/10\n",
            "938/938 [==============================] - 4s 4ms/step - loss: 0.0695 - accuracy: 0.9794 - val_loss: 0.1142 - val_accuracy: 0.9670\n",
            "Optimizer: Adam, Accuracy: 0.9794333577156067\n",
            "Epoch 1/10\n",
            "938/938 [==============================] - 5s 5ms/step - loss: 1.0858 - accuracy: 0.6851 - val_loss: 0.4221 - val_accuracy: 0.8866\n",
            "Epoch 2/10\n",
            "938/938 [==============================] - 4s 4ms/step - loss: 0.3194 - accuracy: 0.9114 - val_loss: 0.2467 - val_accuracy: 0.9284\n",
            "Epoch 3/10\n",
            "938/938 [==============================] - 3s 4ms/step - loss: 0.2187 - accuracy: 0.9362 - val_loss: 0.1932 - val_accuracy: 0.9444\n",
            "Epoch 4/10\n",
            "938/938 [==============================] - 4s 4ms/step - loss: 0.1737 - accuracy: 0.9488 - val_loss: 0.1688 - val_accuracy: 0.9491\n",
            "Epoch 5/10\n",
            "938/938 [==============================] - 4s 4ms/step - loss: 0.1466 - accuracy: 0.9575 - val_loss: 0.1413 - val_accuracy: 0.9573\n",
            "Epoch 6/10\n",
            "938/938 [==============================] - 4s 4ms/step - loss: 0.1269 - accuracy: 0.9636 - val_loss: 0.1262 - val_accuracy: 0.9630\n",
            "Epoch 7/10\n",
            "938/938 [==============================] - 4s 4ms/step - loss: 0.1133 - accuracy: 0.9669 - val_loss: 0.1239 - val_accuracy: 0.9625\n",
            "Epoch 8/10\n",
            "938/938 [==============================] - 5s 5ms/step - loss: 0.1031 - accuracy: 0.9703 - val_loss: 0.1130 - val_accuracy: 0.9654\n",
            "Epoch 9/10\n",
            "938/938 [==============================] - 3s 4ms/step - loss: 0.0935 - accuracy: 0.9723 - val_loss: 0.1179 - val_accuracy: 0.9630\n",
            "Epoch 10/10\n",
            "938/938 [==============================] - 4s 4ms/step - loss: 0.0868 - accuracy: 0.9744 - val_loss: 0.1093 - val_accuracy: 0.9671\n",
            "Optimizer: RMSprop, Accuracy: 0.9744333624839783\n",
            "Epoch 1/10\n",
            "938/938 [==============================] - 4s 4ms/step - loss: 2.3083 - accuracy: 0.1113 - val_loss: 2.2963 - val_accuracy: 0.1135\n",
            "Epoch 2/10\n",
            "938/938 [==============================] - 3s 4ms/step - loss: 2.2943 - accuracy: 0.1171 - val_loss: 2.2914 - val_accuracy: 0.1135\n",
            "Epoch 3/10\n",
            "938/938 [==============================] - 3s 4ms/step - loss: 2.2888 - accuracy: 0.1184 - val_loss: 2.2846 - val_accuracy: 0.1135\n",
            "Epoch 4/10\n",
            "938/938 [==============================] - 4s 5ms/step - loss: 2.2812 - accuracy: 0.1445 - val_loss: 2.2755 - val_accuracy: 0.1315\n",
            "Epoch 5/10\n",
            "938/938 [==============================] - 3s 3ms/step - loss: 2.2698 - accuracy: 0.1796 - val_loss: 2.2607 - val_accuracy: 0.3043\n",
            "Epoch 6/10\n",
            "938/938 [==============================] - 3s 3ms/step - loss: 2.2508 - accuracy: 0.2269 - val_loss: 2.2351 - val_accuracy: 0.3273\n",
            "Epoch 7/10\n",
            "938/938 [==============================] - 4s 4ms/step - loss: 2.2157 - accuracy: 0.2603 - val_loss: 2.1857 - val_accuracy: 0.3267\n",
            "Epoch 8/10\n",
            "938/938 [==============================] - 5s 5ms/step - loss: 2.1479 - accuracy: 0.2840 - val_loss: 2.0932 - val_accuracy: 0.3098\n",
            "Epoch 9/10\n",
            "938/938 [==============================] - 7s 8ms/step - loss: 2.0361 - accuracy: 0.3325 - val_loss: 1.9609 - val_accuracy: 0.3458\n",
            "Epoch 10/10\n",
            "938/938 [==============================] - 6s 7ms/step - loss: 1.9073 - accuracy: 0.3785 - val_loss: 1.8330 - val_accuracy: 0.4245\n",
            "Optimizer: SGD, Accuracy: 0.3785499930381775\n"
          ]
        }
      ]
    },
    {
      "cell_type": "markdown",
      "source": [
        "Optimizer"
      ],
      "metadata": {
        "id": "xCx650kc5Kzb"
      }
    },
    {
      "cell_type": "code",
      "source": [
        "optimizers = ['Adadelta', 'Adagrad', 'Adam  ', 'RMSprop', 'SGD  ']\n",
        "accuracy=[0.09771666675806046, 0.11236666887998581,0.9794333577156067, 0.9744333624839783,0.3785499930381775]\n",
        "i=0\n",
        "for optimizer in optimizers:\n",
        "  print(f\"Optimizer: {optimizer}\\t\\tAccuracy: {accuracy[i]}\")\n",
        "  i=i+1"
      ],
      "metadata": {
        "colab": {
          "base_uri": "https://localhost:8080/"
        },
        "id": "TvzPOJwL1jFW",
        "outputId": "1817902a-66f6-4423-d4b1-645d5e18b9ad"
      },
      "execution_count": 16,
      "outputs": [
        {
          "output_type": "stream",
          "name": "stdout",
          "text": [
            "Optimizer: Adadelta\t\tAccuracy: 0.09771666675806046\n",
            "Optimizer: Adagrad\t\tAccuracy: 0.11236666887998581\n",
            "Optimizer: Adam  \t\tAccuracy: 0.9794333577156067\n",
            "Optimizer: RMSprop\t\tAccuracy: 0.9744333624839783\n",
            "Optimizer: SGD  \t\tAccuracy: 0.3785499930381775\n"
          ]
        }
      ]
    },
    {
      "cell_type": "code",
      "source": [],
      "metadata": {
        "id": "WEFQtGSi5xjL"
      },
      "execution_count": null,
      "outputs": []
    }
  ]
}