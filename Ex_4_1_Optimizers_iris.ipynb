{
  "nbformat": 4,
  "nbformat_minor": 0,
  "metadata": {
    "colab": {
      "name": "1_Optimizers_iris.ipynb",
      "provenance": []
    },
    "kernelspec": {
      "name": "python3",
      "display_name": "Python 3"
    },
    "language_info": {
      "name": "python"
    }
  },
  "cells": [
    {
      "cell_type": "code",
      "execution_count": null,
      "metadata": {
        "id": "p8bfAPYcuw6k"
      },
      "outputs": [],
      "source": [
        "#Import libraris\n",
        "import tensorflow as tf\n",
        "import keras\n",
        "from keras.datasets import mnist\n",
        "from keras.models import Sequential\n",
        "from keras.layers import Dense, Activation\n",
        "from keras import backend as K"
      ]
    },
    {
      "cell_type": "code",
      "source": [
        "#Load Dataset\n",
        "(X_train,y_train),(X_test,y_test)=mnist.load_data()\n",
        "print(\"Training samples size: {} and Label size:{}  \".format(X_train.shape,y_train.shape))"
      ],
      "metadata": {
        "colab": {
          "base_uri": "https://localhost:8080/"
        },
        "id": "FXBb307QvODe",
        "outputId": "f063f7d5-a6c0-4ed5-e23c-8379b09fff4f"
      },
      "execution_count": null,
      "outputs": [
        {
          "output_type": "stream",
          "name": "stdout",
          "text": [
            "Training samples size: (60000, 28, 28) and Label size:(60000,)  \n"
          ]
        }
      ]
    },
    {
      "cell_type": "code",
      "source": [
        "#Reshape the data\n",
        "X_train=X_train.reshape(X_train.shape[0],-1)\n",
        "X_test=X_test.reshape(X_test.shape[0],-1)\n",
        "\n",
        "print(\"Train: \",X_train.shape)\n",
        "print(\"Test:\",X_test.shape)"
      ],
      "metadata": {
        "colab": {
          "base_uri": "https://localhost:8080/"
        },
        "id": "d7jCgWQ8wIGd",
        "outputId": "121ce5d9-cdf6-4b99-e357-502e81a7ded3"
      },
      "execution_count": null,
      "outputs": [
        {
          "output_type": "stream",
          "name": "stdout",
          "text": [
            "Train:  (60000, 784)\n",
            "Test: (10000, 784)\n"
          ]
        }
      ]
    },
    {
      "cell_type": "code",
      "source": [
        "#Normalize data\n",
        "X_train= X_train.astype('float32')\n",
        "X_test= X_test.astype('float32')\n",
        "X_train /= 255\n",
        "X_test /=255"
      ],
      "metadata": {
        "id": "9HCk206lwbCB"
      },
      "execution_count": null,
      "outputs": []
    },
    {
      "cell_type": "code",
      "source": [
        "#Build Model (MLP)\n",
        "from tensorflow.keras import optimizers\n",
        "def build_model(opt):\n",
        "  model=Sequential()\n",
        "  model.add(Dense(50,input_shape=(784,)))\n",
        "  model.add(Activation('sigmoid'))\n",
        "  model.add(Dense(50))\n",
        "  model.add(Activation('sigmoid'))\n",
        "  model.add(Dense(50))\n",
        "  model.add(Activation('sigmoid'))\n",
        "  model.add(Dense(10))\n",
        "  model.add(Activation('softmax'))\n",
        "  model.compile(optimizer = opt, loss = 'sparse_categorical_crossentropy', metrics = ['accuracy'])\n",
        "  return model"
      ],
      "metadata": {
        "id": "Nq-2tTROw50s"
      },
      "execution_count": null,
      "outputs": []
    },
    {
      "cell_type": "code",
      "source": [
        "optimizers = ['Adadelta', 'Adagrad', 'Adam', 'RMSprop', 'SGD']\n",
        "batch_size=64\n",
        "epochs=10\n",
        "for i in optimizers:\n",
        "  model = build_model(i)\n",
        "  hist=model.fit(X_train, y_train, batch_size=batch_size, epochs=epochs, verbose=1, validation_data=(X_test,y_test))\n",
        "  \n"
      ],
      "metadata": {
        "colab": {
          "base_uri": "https://localhost:8080/"
        },
        "id": "fXDZvH2ExoBo",
        "outputId": "7aaac0c9-2186-4622-f2dd-dde63675e2b7"
      },
      "execution_count": null,
      "outputs": [
        {
          "output_type": "stream",
          "name": "stdout",
          "text": [
            "Epoch 1/10\n",
            "938/938 [==============================] - 3s 3ms/step - loss: 2.3980 - accuracy: 0.0904 - val_loss: 2.3950 - val_accuracy: 0.0892\n",
            "Epoch 2/10\n",
            "938/938 [==============================] - 3s 3ms/step - loss: 2.3848 - accuracy: 0.0904 - val_loss: 2.3823 - val_accuracy: 0.0892\n",
            "Epoch 3/10\n",
            "938/938 [==============================] - 3s 3ms/step - loss: 2.3732 - accuracy: 0.0904 - val_loss: 2.3711 - val_accuracy: 0.0892\n",
            "Epoch 4/10\n",
            "938/938 [==============================] - 3s 3ms/step - loss: 2.3629 - accuracy: 0.0904 - val_loss: 2.3613 - val_accuracy: 0.0892\n",
            "Epoch 5/10\n",
            "938/938 [==============================] - 3s 3ms/step - loss: 2.3539 - accuracy: 0.0904 - val_loss: 2.3526 - val_accuracy: 0.0892\n",
            "Epoch 6/10\n",
            "938/938 [==============================] - 3s 3ms/step - loss: 2.3460 - accuracy: 0.0904 - val_loss: 2.3450 - val_accuracy: 0.0892\n",
            "Epoch 7/10\n",
            "938/938 [==============================] - 3s 3ms/step - loss: 2.3392 - accuracy: 0.0904 - val_loss: 2.3384 - val_accuracy: 0.0892\n",
            "Epoch 8/10\n",
            "938/938 [==============================] - 3s 3ms/step - loss: 2.3332 - accuracy: 0.0904 - val_loss: 2.3326 - val_accuracy: 0.0892\n",
            "Epoch 9/10\n",
            "938/938 [==============================] - 3s 3ms/step - loss: 2.3279 - accuracy: 0.0912 - val_loss: 2.3274 - val_accuracy: 0.0943\n",
            "Epoch 10/10\n",
            "938/938 [==============================] - 3s 3ms/step - loss: 2.3232 - accuracy: 0.1166 - val_loss: 2.3229 - val_accuracy: 0.1258\n",
            "Epoch 1/10\n",
            "938/938 [==============================] - 3s 3ms/step - loss: 2.4047 - accuracy: 0.1022 - val_loss: 2.3302 - val_accuracy: 0.1010\n",
            "Epoch 2/10\n",
            "938/938 [==============================] - 3s 3ms/step - loss: 2.3128 - accuracy: 0.1022 - val_loss: 2.3034 - val_accuracy: 0.1010\n",
            "Epoch 3/10\n",
            "938/938 [==============================] - 3s 3ms/step - loss: 2.3000 - accuracy: 0.1103 - val_loss: 2.2979 - val_accuracy: 0.1610\n",
            "Epoch 4/10\n",
            "938/938 [==============================] - 3s 3ms/step - loss: 2.2968 - accuracy: 0.1656 - val_loss: 2.2958 - val_accuracy: 0.1179\n",
            "Epoch 5/10\n",
            "938/938 [==============================] - 3s 3ms/step - loss: 2.2952 - accuracy: 0.1129 - val_loss: 2.2943 - val_accuracy: 0.1135\n",
            "Epoch 6/10\n",
            "938/938 [==============================] - 3s 3ms/step - loss: 2.2937 - accuracy: 0.1124 - val_loss: 2.2928 - val_accuracy: 0.1135\n",
            "Epoch 7/10\n",
            "938/938 [==============================] - 3s 3ms/step - loss: 2.2922 - accuracy: 0.1126 - val_loss: 2.2912 - val_accuracy: 0.1135\n",
            "Epoch 8/10\n",
            "938/938 [==============================] - 3s 3ms/step - loss: 2.2906 - accuracy: 0.1125 - val_loss: 2.2896 - val_accuracy: 0.1140\n",
            "Epoch 9/10\n",
            "938/938 [==============================] - 3s 3ms/step - loss: 2.2890 - accuracy: 0.1142 - val_loss: 2.2879 - val_accuracy: 0.1155\n",
            "Epoch 10/10\n",
            "938/938 [==============================] - 3s 3ms/step - loss: 2.2873 - accuracy: 0.1203 - val_loss: 2.2861 - val_accuracy: 0.1200\n",
            "Epoch 1/10\n",
            "938/938 [==============================] - 4s 3ms/step - loss: 0.9914 - accuracy: 0.7260 - val_loss: 0.3850 - val_accuracy: 0.9046\n",
            "Epoch 2/10\n",
            "938/938 [==============================] - 3s 3ms/step - loss: 0.2989 - accuracy: 0.9212 - val_loss: 0.2322 - val_accuracy: 0.9375\n",
            "Epoch 3/10\n",
            "938/938 [==============================] - 3s 3ms/step - loss: 0.2014 - accuracy: 0.9438 - val_loss: 0.1775 - val_accuracy: 0.9505\n",
            "Epoch 4/10\n",
            "938/938 [==============================] - 3s 3ms/step - loss: 0.1553 - accuracy: 0.9563 - val_loss: 0.1517 - val_accuracy: 0.9571\n",
            "Epoch 5/10\n",
            "938/938 [==============================] - 3s 3ms/step - loss: 0.1282 - accuracy: 0.9636 - val_loss: 0.1342 - val_accuracy: 0.9609\n",
            "Epoch 6/10\n",
            "938/938 [==============================] - 3s 3ms/step - loss: 0.1090 - accuracy: 0.9683 - val_loss: 0.1247 - val_accuracy: 0.9635\n",
            "Epoch 7/10\n",
            "938/938 [==============================] - 3s 3ms/step - loss: 0.0948 - accuracy: 0.9724 - val_loss: 0.1250 - val_accuracy: 0.9634\n",
            "Epoch 8/10\n",
            "938/938 [==============================] - 3s 3ms/step - loss: 0.0841 - accuracy: 0.9758 - val_loss: 0.1180 - val_accuracy: 0.9661\n",
            "Epoch 9/10\n",
            "938/938 [==============================] - 3s 3ms/step - loss: 0.0745 - accuracy: 0.9786 - val_loss: 0.1144 - val_accuracy: 0.9680\n",
            "Epoch 10/10\n",
            "938/938 [==============================] - 3s 3ms/step - loss: 0.0658 - accuracy: 0.9807 - val_loss: 0.1156 - val_accuracy: 0.9655\n",
            "Epoch 1/10\n",
            "938/938 [==============================] - 4s 3ms/step - loss: 0.9326 - accuracy: 0.7521 - val_loss: 0.3447 - val_accuracy: 0.9048\n",
            "Epoch 2/10\n",
            "938/938 [==============================] - 3s 3ms/step - loss: 0.2770 - accuracy: 0.9209 - val_loss: 0.2211 - val_accuracy: 0.9348\n",
            "Epoch 3/10\n",
            "938/938 [==============================] - 3s 3ms/step - loss: 0.1941 - accuracy: 0.9436 - val_loss: 0.1746 - val_accuracy: 0.9497\n",
            "Epoch 4/10\n",
            "938/938 [==============================] - 3s 3ms/step - loss: 0.1549 - accuracy: 0.9546 - val_loss: 0.1441 - val_accuracy: 0.9569\n",
            "Epoch 5/10\n",
            "938/938 [==============================] - 3s 3ms/step - loss: 0.1297 - accuracy: 0.9618 - val_loss: 0.1332 - val_accuracy: 0.9598\n",
            "Epoch 6/10\n",
            "938/938 [==============================] - 3s 3ms/step - loss: 0.1133 - accuracy: 0.9670 - val_loss: 0.1209 - val_accuracy: 0.9637\n",
            "Epoch 7/10\n",
            "938/938 [==============================] - 3s 3ms/step - loss: 0.1013 - accuracy: 0.9700 - val_loss: 0.1189 - val_accuracy: 0.9655\n",
            "Epoch 8/10\n",
            "938/938 [==============================] - 3s 3ms/step - loss: 0.0929 - accuracy: 0.9725 - val_loss: 0.1131 - val_accuracy: 0.9669\n",
            "Epoch 9/10\n",
            "938/938 [==============================] - 3s 3ms/step - loss: 0.0853 - accuracy: 0.9747 - val_loss: 0.1092 - val_accuracy: 0.9673\n",
            "Epoch 10/10\n",
            "938/938 [==============================] - 3s 3ms/step - loss: 0.0795 - accuracy: 0.9772 - val_loss: 0.1110 - val_accuracy: 0.9676\n",
            "Epoch 1/10\n",
            "938/938 [==============================] - 38s 41ms/step - loss: 2.3041 - accuracy: 0.1127 - val_loss: 2.2981 - val_accuracy: 0.1159\n",
            "Epoch 2/10\n",
            "938/938 [==============================] - 2s 3ms/step - loss: 2.2956 - accuracy: 0.1217 - val_loss: 2.2937 - val_accuracy: 0.1135\n",
            "Epoch 3/10\n",
            "938/938 [==============================] - 3s 3ms/step - loss: 2.2912 - accuracy: 0.1282 - val_loss: 2.2877 - val_accuracy: 0.1140\n",
            "Epoch 4/10\n",
            "938/938 [==============================] - 3s 3ms/step - loss: 2.2855 - accuracy: 0.1500 - val_loss: 2.2809 - val_accuracy: 0.1135\n",
            "Epoch 5/10\n",
            "938/938 [==============================] - 3s 3ms/step - loss: 2.2776 - accuracy: 0.1724 - val_loss: 2.2718 - val_accuracy: 0.2235\n",
            "Epoch 6/10\n",
            "938/938 [==============================] - 3s 3ms/step - loss: 2.2660 - accuracy: 0.2136 - val_loss: 2.2571 - val_accuracy: 0.3267\n",
            "Epoch 7/10\n",
            "938/938 [==============================] - 2s 3ms/step - loss: 2.2476 - accuracy: 0.2795 - val_loss: 2.2342 - val_accuracy: 0.3485\n",
            "Epoch 8/10\n",
            "938/938 [==============================] - 3s 3ms/step - loss: 2.2162 - accuracy: 0.3524 - val_loss: 2.1911 - val_accuracy: 0.3603\n",
            "Epoch 9/10\n",
            "938/938 [==============================] - 3s 3ms/step - loss: 2.1572 - accuracy: 0.3805 - val_loss: 2.1091 - val_accuracy: 0.3925\n",
            "Epoch 10/10\n",
            "938/938 [==============================] - 2s 3ms/step - loss: 2.0446 - accuracy: 0.3986 - val_loss: 1.9575 - val_accuracy: 0.3944\n"
          ]
        }
      ]
    },
    {
      "cell_type": "markdown",
      "source": [
        "Optimizer"
      ],
      "metadata": {
        "id": "xCx650kc5Kzb"
      }
    },
    {
      "cell_type": "code",
      "source": [
        "hist.history['accuracy']"
      ],
      "metadata": {
        "colab": {
          "base_uri": "https://localhost:8080/"
        },
        "id": "TvzPOJwL1jFW",
        "outputId": "e0841661-35dd-4550-ae52-c667aeb86693"
      },
      "execution_count": null,
      "outputs": [
        {
          "output_type": "execute_result",
          "data": {
            "text/plain": [
              "[0.09929999709129333,\n",
              " 0.09929999709129333,\n",
              " 0.09929999709129333,\n",
              " 0.09929999709129333,\n",
              " 0.09929999709129333,\n",
              " 0.09929999709129333,\n",
              " 0.09929999709129333,\n",
              " 0.09929999709129333,\n",
              " 0.09929999709129333,\n",
              " 0.09929999709129333]"
            ]
          },
          "metadata": {},
          "execution_count": 34
        }
      ]
    },
    {
      "cell_type": "code",
      "source": [
        ""
      ],
      "metadata": {
        "id": "WEFQtGSi5xjL"
      },
      "execution_count": null,
      "outputs": []
    }
  ]
}