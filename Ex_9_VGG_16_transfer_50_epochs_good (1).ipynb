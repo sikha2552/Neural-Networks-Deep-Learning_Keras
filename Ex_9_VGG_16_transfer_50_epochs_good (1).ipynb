{
  "nbformat": 4,
  "nbformat_minor": 0,
  "metadata": {
    "colab": {
      "name": "VGG_16_transfer_50_epochs_good.ipynb",
      "provenance": []
    },
    "kernelspec": {
      "name": "python3",
      "display_name": "Python 3"
    },
    "language_info": {
      "name": "python"
    },
    "accelerator": "GPU"
  },
  "cells": [
    {
      "cell_type": "markdown",
      "source": [
        "# **VGG16-Transfer Learning On Custom Dataset: Rice Plant Pathology.**\n",
        "\n",
        "The custom dataset comprises of paddy leaf images of 5 different classes.\n",
        "1. Bacterialblight\n",
        "2. BrownSpot\n",
        "3. Healthy\n",
        "4. LeafBlast\n",
        "5. Tungro"
      ],
      "metadata": {
        "id": "JX6DC4OxvuAc"
      }
    },
    {
      "cell_type": "code",
      "metadata": {
        "id": "ymbTkt1vHTJT"
      },
      "source": [
        "import tensorflow as tf\n",
        "import tensorflow_hub as hub\n",
        "import os\n",
        "from tensorflow.keras.layers import Dense, Flatten, Conv2D\n",
        "from tensorflow.keras import Model\n",
        "from tensorflow.keras.preprocessing.image import ImageDataGenerator\n",
        "from tensorflow.keras.optimizers import Adam\n",
        "from tensorflow.keras import layers\n",
        "#from keras import optimizers\n",
        "from keras.models import Model\n",
        "from keras.applications.vgg16 import VGG16\n",
        "from keras.applications.vgg16 import preprocess_input\n",
        "from keras.preprocessing import image\n",
        "from keras.preprocessing.image import ImageDataGenerator\n",
        "import matplotlib.pyplot as plt\n",
        "from glob import glob\n",
        "\n",
        "import warnings\n",
        "warnings.filterwarnings(\"ignore\", category=FutureWarning)"
      ],
      "execution_count": null,
      "outputs": []
    },
    {
      "cell_type": "code",
      "metadata": {
        "colab": {
          "base_uri": "https://localhost:8080/"
        },
        "id": "gCeLQ6_sHoF2",
        "outputId": "6296ef36-7aac-45b1-f519-3ab0c9469dd1"
      },
      "source": [
        "%tensorflow_version 2.x\n",
        "import tensorflow as tf\n",
        "device_name = tf.test.gpu_device_name()\n",
        "if device_name != '/device:GPU:0':\n",
        "  raise SystemError('GPU device not found')\n",
        "print('Found GPU at: {}'.format(device_name))"
      ],
      "execution_count": null,
      "outputs": [
        {
          "output_type": "stream",
          "name": "stdout",
          "text": [
            "Found GPU at: /device:GPU:0\n"
          ]
        }
      ]
    },
    {
      "cell_type": "code",
      "metadata": {
        "id": "_sEI7XS9Hh2T"
      },
      "source": [
        "#Set the image size as per the VGG16 archetecture\n",
        "IMAGE_SIZE = [224, 224]"
      ],
      "execution_count": null,
      "outputs": []
    },
    {
      "cell_type": "code",
      "metadata": {
        "colab": {
          "base_uri": "https://localhost:8080/"
        },
        "id": "Ip43oBQSHj9_",
        "outputId": "c466ac18-9afc-4d9f-e35d-bfb129cba47e"
      },
      "source": [
        "from google.colab import drive\n",
        "drive.mount('/content/drive')"
      ],
      "execution_count": null,
      "outputs": [
        {
          "output_type": "stream",
          "name": "stdout",
          "text": [
            "Mounted at /content/drive\n"
          ]
        }
      ]
    },
    {
      "cell_type": "code",
      "metadata": {
        "colab": {
          "base_uri": "https://localhost:8080/"
        },
        "id": "seKyY0iwHmAS",
        "outputId": "a418cd9e-1280-47e1-95fe-63c310365f70"
      },
      "source": [
        "!ls '/content/drive'"
      ],
      "execution_count": null,
      "outputs": [
        {
          "output_type": "stream",
          "name": "stdout",
          "text": [
            "MyDrive\n"
          ]
        }
      ]
    },
    {
      "cell_type": "code",
      "metadata": {
        "id": "1FPNGQZEH2yd"
      },
      "source": [
        "#Give dataset path\n",
        "train_path = '/content/drive/MyDrive/My_Learnings/Transfer_Learning/RiceDiseaseDataset/train'\n",
        "validation_path = '/content/drive/MyDrive/My_Learnings/Transfer_Learning/RiceDiseaseDataset/validation'"
      ],
      "execution_count": null,
      "outputs": []
    },
    {
      "cell_type": "code",
      "metadata": {
        "id": "w0VLin0HH9UM"
      },
      "source": [
        "import time\n",
        "import os\n",
        "from os.path import exists\n",
        "\n",
        "def count(dir, counter=0):\n",
        "    \"returns number of files in dir and subdirs\"\n",
        "    for pack in os.walk(dir):\n",
        "        for f in pack[2]:\n",
        "            counter += 1\n",
        "    return dir + \" : \" + str(counter) + \"files\""
      ],
      "execution_count": null,
      "outputs": []
    },
    {
      "cell_type": "code",
      "metadata": {
        "colab": {
          "base_uri": "https://localhost:8080/"
        },
        "id": "o1P1QjYhhaqE",
        "outputId": "1dbd59f8-0903-4653-956f-4ca509412eca"
      },
      "source": [
        "\n",
        "print('total images for training :', count(train_path))\n",
        "print('total images for validation :', count(validation_path))"
      ],
      "execution_count": null,
      "outputs": [
        {
          "output_type": "stream",
          "name": "stdout",
          "text": [
            "total images for training : /content/drive/MyDrive/My_Learnings/Transfer_Learning/RiceDiseaseDataset/train : 2759files\n",
            "total images for validation : /content/drive/MyDrive/My_Learnings/Transfer_Learning/RiceDiseaseDataset/validation : 576files\n"
          ]
        }
      ]
    },
    {
      "cell_type": "code",
      "metadata": {
        "colab": {
          "base_uri": "https://localhost:8080/"
        },
        "id": "n2UOsr8CIh8W",
        "outputId": "86699d87-fc65-442c-abfd-1e6d159081f9"
      },
      "source": [
        "folders = glob('/content/drive/MyDrive/My_Learnings/Transfer_Learning/RiceDiseaseDataset/train/*')\n",
        "print(len(folders))\n"
      ],
      "execution_count": null,
      "outputs": [
        {
          "output_type": "stream",
          "name": "stdout",
          "text": [
            "5\n"
          ]
        }
      ]
    },
    {
      "cell_type": "code",
      "metadata": {
        "id": "T6R1NkHuJld5"
      },
      "source": [
        "model = VGG16(input_shape=IMAGE_SIZE + [3], weights='imagenet', include_top=False)"
      ],
      "execution_count": null,
      "outputs": []
    },
    {
      "cell_type": "code",
      "metadata": {
        "id": "NF1Ec9tp4elY"
      },
      "source": [
        "for layer in model.layers:\n",
        "  layer.trainable = False"
      ],
      "execution_count": null,
      "outputs": []
    },
    {
      "cell_type": "code",
      "metadata": {
        "id": "bZ7UJ7SDJqjJ"
      },
      "source": [
        "from keras.models import Model\n",
        "from keras.layers import Dense\n",
        "from keras.layers import Flatten\n",
        "flat1 = Flatten()(model.layers[-1].output)\n",
        "class1 = Dense(1024, activation='relu')(flat1)\n",
        "output = Dense(len(folders), activation='softmax')(class1)\n",
        "# define new model\n",
        "model = Model(inputs=model.inputs, outputs=output)"
      ],
      "execution_count": null,
      "outputs": []
    },
    {
      "cell_type": "code",
      "metadata": {
        "colab": {
          "base_uri": "https://localhost:8080/"
        },
        "id": "orNVtytHJrwp",
        "outputId": "d3ecd6c4-6a30-419f-9805-64469d5450c1"
      },
      "source": [
        "model.summary()"
      ],
      "execution_count": null,
      "outputs": [
        {
          "output_type": "stream",
          "name": "stdout",
          "text": [
            "Model: \"model_1\"\n",
            "_________________________________________________________________\n",
            "Layer (type)                 Output Shape              Param #   \n",
            "=================================================================\n",
            "input_2 (InputLayer)         [(None, 224, 224, 3)]     0         \n",
            "_________________________________________________________________\n",
            "block1_conv1 (Conv2D)        (None, 224, 224, 64)      1792      \n",
            "_________________________________________________________________\n",
            "block1_conv2 (Conv2D)        (None, 224, 224, 64)      36928     \n",
            "_________________________________________________________________\n",
            "block1_pool (MaxPooling2D)   (None, 112, 112, 64)      0         \n",
            "_________________________________________________________________\n",
            "block2_conv1 (Conv2D)        (None, 112, 112, 128)     73856     \n",
            "_________________________________________________________________\n",
            "block2_conv2 (Conv2D)        (None, 112, 112, 128)     147584    \n",
            "_________________________________________________________________\n",
            "block2_pool (MaxPooling2D)   (None, 56, 56, 128)       0         \n",
            "_________________________________________________________________\n",
            "block3_conv1 (Conv2D)        (None, 56, 56, 256)       295168    \n",
            "_________________________________________________________________\n",
            "block3_conv2 (Conv2D)        (None, 56, 56, 256)       590080    \n",
            "_________________________________________________________________\n",
            "block3_conv3 (Conv2D)        (None, 56, 56, 256)       590080    \n",
            "_________________________________________________________________\n",
            "block3_pool (MaxPooling2D)   (None, 28, 28, 256)       0         \n",
            "_________________________________________________________________\n",
            "block4_conv1 (Conv2D)        (None, 28, 28, 512)       1180160   \n",
            "_________________________________________________________________\n",
            "block4_conv2 (Conv2D)        (None, 28, 28, 512)       2359808   \n",
            "_________________________________________________________________\n",
            "block4_conv3 (Conv2D)        (None, 28, 28, 512)       2359808   \n",
            "_________________________________________________________________\n",
            "block4_pool (MaxPooling2D)   (None, 14, 14, 512)       0         \n",
            "_________________________________________________________________\n",
            "block5_conv1 (Conv2D)        (None, 14, 14, 512)       2359808   \n",
            "_________________________________________________________________\n",
            "block5_conv2 (Conv2D)        (None, 14, 14, 512)       2359808   \n",
            "_________________________________________________________________\n",
            "block5_conv3 (Conv2D)        (None, 14, 14, 512)       2359808   \n",
            "_________________________________________________________________\n",
            "block5_pool (MaxPooling2D)   (None, 7, 7, 512)         0         \n",
            "_________________________________________________________________\n",
            "flatten_1 (Flatten)          (None, 25088)             0         \n",
            "_________________________________________________________________\n",
            "dense_2 (Dense)              (None, 1024)              25691136  \n",
            "_________________________________________________________________\n",
            "dense_3 (Dense)              (None, 5)                 5125      \n",
            "=================================================================\n",
            "Total params: 40,410,949\n",
            "Trainable params: 25,696,261\n",
            "Non-trainable params: 14,714,688\n",
            "_________________________________________________________________\n"
          ]
        }
      ]
    },
    {
      "cell_type": "code",
      "metadata": {
        "id": "jcWYvKS-J8m1"
      },
      "source": [
        "optimizer=Adam(learning_rate=0.001)\n",
        "model.compile(optimizer=optimizer, \n",
        "                  loss='categorical_crossentropy',\n",
        "                  metrics=['accuracy'])"
      ],
      "execution_count": null,
      "outputs": []
    },
    {
      "cell_type": "code",
      "metadata": {
        "id": "kWKNSZfiKAhS"
      },
      "source": [
        "BATCH_SIZE = 64\n",
        "\n",
        "train_generator = ImageDataGenerator(rotation_range=90, \n",
        "                                     brightness_range=[0.1, 0.7],\n",
        "                                     width_shift_range=0.5, \n",
        "                                     height_shift_range=0.5,\n",
        "                                     horizontal_flip=True, \n",
        "                                     vertical_flip=True,\n",
        "                                     validation_split=0.15,\n",
        "                                     preprocessing_function=preprocess_input) # VGG16 preprocessing\n",
        "\n",
        "test_generator = ImageDataGenerator(preprocessing_function=preprocess_input) # VGG16 preprocessin"
      ],
      "execution_count": null,
      "outputs": []
    },
    {
      "cell_type": "code",
      "metadata": {
        "colab": {
          "base_uri": "https://localhost:8080/"
        },
        "id": "yvg_tLEaJw06",
        "outputId": "0a3b8854-d4f1-491d-e423-57b6237851e4"
      },
      "source": [
        "class_subset = sorted(os.listdir('/content/drive/MyDrive/My_Learnings/Transfer_Learning/RiceDiseaseDataset/train/'))[:5] # Using only the first 10 classes\n",
        "print(class_subset)\n",
        "traingen = train_generator.flow_from_directory(train_path,\n",
        "                                               target_size=(224, 224),\n",
        "                                               class_mode='categorical',\n",
        "                                               classes=class_subset,\n",
        "                                               subset='training',\n",
        "                                               batch_size=BATCH_SIZE, \n",
        "                                               shuffle=True,\n",
        "                                               seed=5)\n",
        "\n",
        "validgen = train_generator.flow_from_directory(train_path,\n",
        "                                               target_size=(224, 224),\n",
        "                                               class_mode='categorical',\n",
        "                                               classes=class_subset,\n",
        "                                               subset='validation',\n",
        "                                               batch_size=BATCH_SIZE,\n",
        "                                               shuffle=True,\n",
        "                                               seed=4)\n",
        "\n",
        "testgen = test_generator.flow_from_directory(validation_path,\n",
        "                                             target_size=(224, 224),\n",
        "                                             class_mode=None,\n",
        "                                             classes=class_subset,\n",
        "                                             batch_size=1,\n",
        "                                             shuffle=False,\n",
        "                                             seed=4)"
      ],
      "execution_count": null,
      "outputs": [
        {
          "output_type": "stream",
          "name": "stdout",
          "text": [
            "['Bacterialblight', 'BrownSpot', 'Healthy', 'LeafBlast', 'Tungro']\n",
            "Found 2347 images belonging to 5 classes.\n",
            "Found 412 images belonging to 5 classes.\n",
            "Found 576 images belonging to 5 classes.\n"
          ]
        }
      ]
    },
    {
      "cell_type": "code",
      "metadata": {
        "colab": {
          "base_uri": "https://localhost:8080/"
        },
        "id": "tQSRD1IsLaKu",
        "outputId": "bf792bd9-832c-4463-c620-b8b8b0026a5f"
      },
      "source": [
        "from keras.callbacks import ModelCheckpoint, EarlyStopping\n",
        "optim_1 = Adam(learning_rate=0.001)\n",
        "#n_classes=3\n",
        "\n",
        "n_steps = traingen.samples // BATCH_SIZE\n",
        "n_val_steps = validgen.samples // BATCH_SIZE\n",
        "n_epochs = 50\n",
        "\n",
        "# ModelCheckpoint callback - save best weights\n",
        "tl_checkpoint_1 = ModelCheckpoint(filepath='tl_model_v1.weights.best_50epochs.hdf5',\n",
        "                                  save_best_only=True,\n",
        "                                  monitor='val_accuracy',\n",
        "                                  mode='max',\n",
        "                                  verbose=2)\n",
        "\n",
        "# EarlyStopping\n",
        "early_stop = EarlyStopping(monitor='loss',\n",
        "                           patience=10,\n",
        "                           restore_best_weights=True,\n",
        "                           mode='min')\n",
        "\n",
        "\n",
        "vgg_history = model.fit(traingen,\n",
        "                            batch_size=BATCH_SIZE,\n",
        "                            epochs=n_epochs,\n",
        "                            validation_data=validgen,\n",
        "                            steps_per_epoch=n_steps,\n",
        "                            validation_steps=n_val_steps,\n",
        "                            callbacks=[tl_checkpoint_1], \n",
        "                            verbose=1)"
      ],
      "execution_count": null,
      "outputs": [
        {
          "output_type": "stream",
          "name": "stdout",
          "text": [
            "Epoch 1/50\n",
            "36/36 [==============================] - 938s 25s/step - loss: 8.6924 - accuracy: 0.5418 - val_loss: 0.9437 - val_accuracy: 0.7188\n",
            "\n",
            "Epoch 00001: val_accuracy improved from -inf to 0.71875, saving model to tl_model_v1.weights.best_50epochs.hdf5\n",
            "Epoch 2/50\n",
            "36/36 [==============================] - 139s 4s/step - loss: 0.7259 - accuracy: 0.7328 - val_loss: 0.5715 - val_accuracy: 0.7969\n",
            "\n",
            "Epoch 00002: val_accuracy improved from 0.71875 to 0.79688, saving model to tl_model_v1.weights.best_50epochs.hdf5\n",
            "Epoch 3/50\n",
            "36/36 [==============================] - 137s 4s/step - loss: 0.5617 - accuracy: 0.7845 - val_loss: 0.4228 - val_accuracy: 0.8516\n",
            "\n",
            "Epoch 00003: val_accuracy improved from 0.79688 to 0.85156, saving model to tl_model_v1.weights.best_50epochs.hdf5\n",
            "Epoch 4/50\n",
            "36/36 [==============================] - 139s 4s/step - loss: 0.5092 - accuracy: 0.8012 - val_loss: 0.5198 - val_accuracy: 0.8073\n",
            "\n",
            "Epoch 00004: val_accuracy did not improve from 0.85156\n",
            "Epoch 5/50\n",
            "36/36 [==============================] - 138s 4s/step - loss: 0.4863 - accuracy: 0.8068 - val_loss: 0.4078 - val_accuracy: 0.8438\n",
            "\n",
            "Epoch 00005: val_accuracy did not improve from 0.85156\n",
            "Epoch 6/50\n",
            "36/36 [==============================] - 138s 4s/step - loss: 0.4579 - accuracy: 0.8292 - val_loss: 0.3673 - val_accuracy: 0.8646\n",
            "\n",
            "Epoch 00006: val_accuracy improved from 0.85156 to 0.86458, saving model to tl_model_v1.weights.best_50epochs.hdf5\n",
            "Epoch 7/50\n",
            "36/36 [==============================] - 138s 4s/step - loss: 0.4443 - accuracy: 0.8292 - val_loss: 0.4369 - val_accuracy: 0.8333\n",
            "\n",
            "Epoch 00007: val_accuracy did not improve from 0.86458\n",
            "Epoch 8/50\n",
            "36/36 [==============================] - 139s 4s/step - loss: 0.4034 - accuracy: 0.8498 - val_loss: 0.4115 - val_accuracy: 0.8516\n",
            "\n",
            "Epoch 00008: val_accuracy did not improve from 0.86458\n",
            "Epoch 9/50\n",
            "36/36 [==============================] - 138s 4s/step - loss: 0.4400 - accuracy: 0.8340 - val_loss: 0.3299 - val_accuracy: 0.8698\n",
            "\n",
            "Epoch 00009: val_accuracy improved from 0.86458 to 0.86979, saving model to tl_model_v1.weights.best_50epochs.hdf5\n",
            "Epoch 10/50\n",
            "36/36 [==============================] - 139s 4s/step - loss: 0.3831 - accuracy: 0.8480 - val_loss: 0.4241 - val_accuracy: 0.8411\n",
            "\n",
            "Epoch 00010: val_accuracy did not improve from 0.86979\n",
            "Epoch 11/50\n",
            "36/36 [==============================] - 137s 4s/step - loss: 0.4224 - accuracy: 0.8410 - val_loss: 0.4241 - val_accuracy: 0.8411\n",
            "\n",
            "Epoch 00011: val_accuracy did not improve from 0.86979\n",
            "Epoch 12/50\n",
            "36/36 [==============================] - 135s 4s/step - loss: 0.3693 - accuracy: 0.8537 - val_loss: 0.3928 - val_accuracy: 0.8646\n",
            "\n",
            "Epoch 00012: val_accuracy did not improve from 0.86979\n",
            "Epoch 13/50\n",
            "36/36 [==============================] - 136s 4s/step - loss: 0.4029 - accuracy: 0.8463 - val_loss: 0.4093 - val_accuracy: 0.8411\n",
            "\n",
            "Epoch 00013: val_accuracy did not improve from 0.86979\n",
            "Epoch 14/50\n",
            "36/36 [==============================] - 137s 4s/step - loss: 0.3572 - accuracy: 0.8572 - val_loss: 0.2960 - val_accuracy: 0.9036\n",
            "\n",
            "Epoch 00014: val_accuracy improved from 0.86979 to 0.90365, saving model to tl_model_v1.weights.best_50epochs.hdf5\n",
            "Epoch 15/50\n",
            "36/36 [==============================] - 137s 4s/step - loss: 0.3591 - accuracy: 0.8647 - val_loss: 0.3581 - val_accuracy: 0.8932\n",
            "\n",
            "Epoch 00015: val_accuracy did not improve from 0.90365\n",
            "Epoch 16/50\n",
            "36/36 [==============================] - 137s 4s/step - loss: 0.3666 - accuracy: 0.8699 - val_loss: 0.3340 - val_accuracy: 0.8932\n",
            "\n",
            "Epoch 00016: val_accuracy did not improve from 0.90365\n",
            "Epoch 17/50\n",
            "36/36 [==============================] - 136s 4s/step - loss: 0.3389 - accuracy: 0.8625 - val_loss: 0.3781 - val_accuracy: 0.8542\n",
            "\n",
            "Epoch 00017: val_accuracy did not improve from 0.90365\n",
            "Epoch 18/50\n",
            "36/36 [==============================] - 135s 4s/step - loss: 0.3662 - accuracy: 0.8616 - val_loss: 0.3835 - val_accuracy: 0.8620\n",
            "\n",
            "Epoch 00018: val_accuracy did not improve from 0.90365\n",
            "Epoch 19/50\n",
            "36/36 [==============================] - 135s 4s/step - loss: 0.3409 - accuracy: 0.8668 - val_loss: 0.4129 - val_accuracy: 0.8464\n",
            "\n",
            "Epoch 00019: val_accuracy did not improve from 0.90365\n",
            "Epoch 20/50\n",
            "36/36 [==============================] - 135s 4s/step - loss: 0.3419 - accuracy: 0.8717 - val_loss: 0.3975 - val_accuracy: 0.8672\n",
            "\n",
            "Epoch 00020: val_accuracy did not improve from 0.90365\n",
            "Epoch 21/50\n",
            "36/36 [==============================] - 135s 4s/step - loss: 0.3336 - accuracy: 0.8743 - val_loss: 0.3904 - val_accuracy: 0.8490\n",
            "\n",
            "Epoch 00021: val_accuracy did not improve from 0.90365\n",
            "Epoch 22/50\n",
            "36/36 [==============================] - 134s 4s/step - loss: 0.3272 - accuracy: 0.8725 - val_loss: 0.4039 - val_accuracy: 0.8776\n",
            "\n",
            "Epoch 00022: val_accuracy did not improve from 0.90365\n",
            "Epoch 23/50\n",
            "36/36 [==============================] - 135s 4s/step - loss: 0.3095 - accuracy: 0.8870 - val_loss: 0.3825 - val_accuracy: 0.8724\n",
            "\n",
            "Epoch 00023: val_accuracy did not improve from 0.90365\n",
            "Epoch 24/50\n",
            "36/36 [==============================] - 136s 4s/step - loss: 0.2926 - accuracy: 0.8866 - val_loss: 0.3504 - val_accuracy: 0.8802\n",
            "\n",
            "Epoch 00024: val_accuracy did not improve from 0.90365\n",
            "Epoch 25/50\n",
            "36/36 [==============================] - 136s 4s/step - loss: 0.3205 - accuracy: 0.8804 - val_loss: 0.4344 - val_accuracy: 0.8438\n",
            "\n",
            "Epoch 00025: val_accuracy did not improve from 0.90365\n",
            "Epoch 26/50\n",
            "36/36 [==============================] - 140s 4s/step - loss: 0.3268 - accuracy: 0.8760 - val_loss: 0.3587 - val_accuracy: 0.8854\n",
            "\n",
            "Epoch 00026: val_accuracy did not improve from 0.90365\n",
            "Epoch 27/50\n",
            "36/36 [==============================] - 138s 4s/step - loss: 0.2987 - accuracy: 0.8887 - val_loss: 0.3915 - val_accuracy: 0.8750\n",
            "\n",
            "Epoch 00027: val_accuracy did not improve from 0.90365\n",
            "Epoch 28/50\n",
            "36/36 [==============================] - 138s 4s/step - loss: 0.3087 - accuracy: 0.8817 - val_loss: 0.4220 - val_accuracy: 0.8594\n",
            "\n",
            "Epoch 00028: val_accuracy did not improve from 0.90365\n",
            "Epoch 29/50\n",
            "36/36 [==============================] - 139s 4s/step - loss: 0.3042 - accuracy: 0.8835 - val_loss: 0.3157 - val_accuracy: 0.8958\n",
            "\n",
            "Epoch 00029: val_accuracy did not improve from 0.90365\n",
            "Epoch 30/50\n",
            "36/36 [==============================] - 139s 4s/step - loss: 0.3009 - accuracy: 0.8822 - val_loss: 0.4309 - val_accuracy: 0.8359\n",
            "\n",
            "Epoch 00030: val_accuracy did not improve from 0.90365\n",
            "Epoch 31/50\n",
            "36/36 [==============================] - 136s 4s/step - loss: 0.3139 - accuracy: 0.8822 - val_loss: 0.3121 - val_accuracy: 0.8906\n",
            "\n",
            "Epoch 00031: val_accuracy did not improve from 0.90365\n",
            "Epoch 32/50\n",
            "36/36 [==============================] - 137s 4s/step - loss: 0.2898 - accuracy: 0.8857 - val_loss: 0.3720 - val_accuracy: 0.8646\n",
            "\n",
            "Epoch 00032: val_accuracy did not improve from 0.90365\n",
            "Epoch 33/50\n",
            "36/36 [==============================] - 139s 4s/step - loss: 0.2935 - accuracy: 0.8883 - val_loss: 0.4515 - val_accuracy: 0.8594\n",
            "\n",
            "Epoch 00033: val_accuracy did not improve from 0.90365\n",
            "Epoch 34/50\n",
            "36/36 [==============================] - 139s 4s/step - loss: 0.3154 - accuracy: 0.8848 - val_loss: 0.4085 - val_accuracy: 0.8542\n",
            "\n",
            "Epoch 00034: val_accuracy did not improve from 0.90365\n",
            "Epoch 35/50\n",
            "36/36 [==============================] - 136s 4s/step - loss: 0.2925 - accuracy: 0.8883 - val_loss: 0.3208 - val_accuracy: 0.8932\n",
            "\n",
            "Epoch 00035: val_accuracy did not improve from 0.90365\n",
            "Epoch 36/50\n",
            "36/36 [==============================] - 135s 4s/step - loss: 0.2818 - accuracy: 0.8931 - val_loss: 0.4467 - val_accuracy: 0.8464\n",
            "\n",
            "Epoch 00036: val_accuracy did not improve from 0.90365\n",
            "Epoch 37/50\n",
            "36/36 [==============================] - 137s 4s/step - loss: 0.2880 - accuracy: 0.8914 - val_loss: 0.3552 - val_accuracy: 0.8932\n",
            "\n",
            "Epoch 00037: val_accuracy did not improve from 0.90365\n",
            "Epoch 38/50\n",
            "36/36 [==============================] - 136s 4s/step - loss: 0.2812 - accuracy: 0.8971 - val_loss: 0.3524 - val_accuracy: 0.8750\n",
            "\n",
            "Epoch 00038: val_accuracy did not improve from 0.90365\n",
            "Epoch 39/50\n",
            "36/36 [==============================] - 138s 4s/step - loss: 0.2856 - accuracy: 0.8909 - val_loss: 0.3399 - val_accuracy: 0.8802\n",
            "\n",
            "Epoch 00039: val_accuracy did not improve from 0.90365\n",
            "Epoch 40/50\n",
            "36/36 [==============================] - 139s 4s/step - loss: 0.2639 - accuracy: 0.8940 - val_loss: 0.3331 - val_accuracy: 0.8828\n",
            "\n",
            "Epoch 00040: val_accuracy did not improve from 0.90365\n",
            "Epoch 41/50\n",
            "36/36 [==============================] - 140s 4s/step - loss: 0.2605 - accuracy: 0.9010 - val_loss: 0.2984 - val_accuracy: 0.9141\n",
            "\n",
            "Epoch 00041: val_accuracy improved from 0.90365 to 0.91406, saving model to tl_model_v1.weights.best_50epochs.hdf5\n",
            "Epoch 42/50\n",
            "36/36 [==============================] - 139s 4s/step - loss: 0.2534 - accuracy: 0.9036 - val_loss: 0.3254 - val_accuracy: 0.9036\n",
            "\n",
            "Epoch 00042: val_accuracy did not improve from 0.91406\n",
            "Epoch 43/50\n",
            "36/36 [==============================] - 140s 4s/step - loss: 0.2779 - accuracy: 0.8958 - val_loss: 0.4035 - val_accuracy: 0.8646\n",
            "\n",
            "Epoch 00043: val_accuracy did not improve from 0.91406\n",
            "Epoch 44/50\n",
            "36/36 [==============================] - 139s 4s/step - loss: 0.2792 - accuracy: 0.8914 - val_loss: 0.3714 - val_accuracy: 0.8984\n",
            "\n",
            "Epoch 00044: val_accuracy did not improve from 0.91406\n",
            "Epoch 45/50\n",
            "36/36 [==============================] - 139s 4s/step - loss: 0.2748 - accuracy: 0.8944 - val_loss: 0.3996 - val_accuracy: 0.8724\n",
            "\n",
            "Epoch 00045: val_accuracy did not improve from 0.91406\n",
            "Epoch 46/50\n",
            "36/36 [==============================] - 140s 4s/step - loss: 0.2572 - accuracy: 0.8966 - val_loss: 0.3990 - val_accuracy: 0.8880\n",
            "\n",
            "Epoch 00046: val_accuracy did not improve from 0.91406\n",
            "Epoch 47/50\n",
            "36/36 [==============================] - 140s 4s/step - loss: 0.2457 - accuracy: 0.9098 - val_loss: 0.4508 - val_accuracy: 0.8620\n",
            "\n",
            "Epoch 00047: val_accuracy did not improve from 0.91406\n",
            "Epoch 48/50\n",
            "36/36 [==============================] - 142s 4s/step - loss: 0.2474 - accuracy: 0.8979 - val_loss: 0.4114 - val_accuracy: 0.8750\n",
            "\n",
            "Epoch 00048: val_accuracy did not improve from 0.91406\n",
            "Epoch 49/50\n",
            "36/36 [==============================] - 141s 4s/step - loss: 0.2605 - accuracy: 0.8975 - val_loss: 0.3284 - val_accuracy: 0.8984\n",
            "\n",
            "Epoch 00049: val_accuracy did not improve from 0.91406\n",
            "Epoch 50/50\n",
            "36/36 [==============================] - 142s 4s/step - loss: 0.2787 - accuracy: 0.8914 - val_loss: 0.4629 - val_accuracy: 0.8438\n",
            "\n",
            "Epoch 00050: val_accuracy did not improve from 0.91406\n"
          ]
        }
      ]
    },
    {
      "cell_type": "code",
      "metadata": {
        "id": "cuFvQAgVZIWH"
      },
      "source": [
        "import numpy as np\n",
        "# Generate predictions\n",
        "model.load_weights('tl_model_v1.weights.best_50epochs.hdf5') # initialize the best trained weights\n",
        "\n",
        "true_classes = testgen.classes\n",
        "class_indices = traingen.class_indices\n",
        "class_indices = dict((v,k) for k,v in class_indices.items())\n",
        "\n",
        "vgg_preds = model.predict(testgen)\n",
        "vgg_pred_classes = np.argmax(vgg_preds, axis=1)"
      ],
      "execution_count": null,
      "outputs": []
    },
    {
      "cell_type": "code",
      "metadata": {
        "colab": {
          "base_uri": "https://localhost:8080/"
        },
        "id": "Ge2T9T25ZNrG",
        "outputId": "7fbd5a3b-9257-41f9-8aa9-b9beb3cad237"
      },
      "source": [
        "from sklearn.metrics import accuracy_score\n",
        "\n",
        "vgg_acc = accuracy_score(true_classes, vgg_pred_classes)\n",
        "print(\"VGG16 Model Accuracy without Fine-Tuning: {:.2f}%\".format(vgg_acc * 100))"
      ],
      "execution_count": null,
      "outputs": [
        {
          "output_type": "stream",
          "name": "stdout",
          "text": [
            "VGG16 Model Accuracy without Fine-Tuning: 89.24%\n"
          ]
        }
      ]
    },
    {
      "cell_type": "code",
      "metadata": {
        "colab": {
          "base_uri": "https://localhost:8080/",
          "height": 269
        },
        "id": "K8Vd4wB9ZVYc",
        "outputId": "4196dbcf-76ca-4652-cfce-8562157cb0d8"
      },
      "source": [
        "from keras.preprocessing.image import load_img\n",
        "# load an image from file\n",
        "image = load_img('/content/drive/MyDrive/My_Learnings/Transfer_Learning/RiceDiseaseDataset/validation/BrownSpot/IMG_20190420_194501.jpg', target_size=(224, 224))\n",
        "plt.imshow(image )\n",
        "plt.show()"
      ],
      "execution_count": null,
      "outputs": [
        {
          "output_type": "display_data",
          "data": {
            "image/png": "[encoded data removed]",
            "text/plain": [
              "<Figure size 432x288 with 1 Axes>"
            ]
          },
          "metadata": {
            "needs_background": "light"
          }
        }
      ]
    },
    {
      "cell_type": "code",
      "metadata": {
        "colab": {
          "base_uri": "https://localhost:8080/"
        },
        "id": "GZey6uY5Z3fm",
        "outputId": "412d6d4e-3950-4f5f-c4c4-fc74895e3052"
      },
      "source": [
        "from keras.preprocessing.image import img_to_array\n",
        "# convert the image pixels to a numpy array\n",
        "image = img_to_array(image)\n",
        "# reshape data for the model\n",
        "image = image.reshape((1, image.shape[0], image.shape[1], image.shape[2]))\n",
        "# prepare the image for the VGG model\n",
        "image = preprocess_input(image)\n",
        "yhat = model.predict(image)\n",
        "print(yhat)"
      ],
      "execution_count": null,
      "outputs": [
        {
          "output_type": "stream",
          "name": "stdout",
          "text": [
            "[[1.9657017e-14 9.9896562e-01 1.0301921e-03 4.2341298e-06 1.3601713e-18]]\n"
          ]
        }
      ]
    },
    {
      "cell_type": "code",
      "metadata": {
        "colab": {
          "base_uri": "https://localhost:8080/"
        },
        "id": "UKBX6_V8Z6RV",
        "outputId": "6ae74520-dfca-4578-e12d-d68b660bbbe5"
      },
      "source": [
        "# convert the probabilities to class labels\n",
        "label = np.argmax(yhat)\n",
        "# retrieve the most likely result, e.g. highest probability\n",
        "#label = label[0][0]\n",
        "# print the classification\n",
        "print(class_subset[label] )"
      ],
      "execution_count": null,
      "outputs": [
        {
          "output_type": "stream",
          "name": "stdout",
          "text": [
            "BrownSpot\n"
          ]
        }
      ]
    }
  ]
}